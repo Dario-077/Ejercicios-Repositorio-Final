{
  "nbformat": 4,
  "nbformat_minor": 0,
  "metadata": {
    "colab": {
      "provenance": [],
      "authorship_tag": "ABX9TyPh4WZqn0N2jkQ5Wjc3qP/o",
      "include_colab_link": true
    },
    "kernelspec": {
      "name": "python3",
      "display_name": "Python 3"
    },
    "language_info": {
      "name": "python"
    }
  },
  "cells": [
    {
      "cell_type": "markdown",
      "metadata": {
        "id": "view-in-github",
        "colab_type": "text"
      },
      "source": [
        "<a href=\"https://colab.research.google.com/github/Dario-077/Ejercicios-Repositorio-Final/blob/main/Untitled3.ipynb\" target=\"_parent\"><img src=\"https://colab.research.google.com/assets/colab-badge.svg\" alt=\"Open In Colab\"/></a>"
      ]
    },
    {
      "cell_type": "code",
      "execution_count": 4,
      "metadata": {
        "colab": {
          "base_uri": "https://localhost:8080/"
        },
        "id": "iO1TcMEep81e",
        "outputId": "2a5807b0-d550-4d87-cbbf-ffd288f8a1a6"
      },
      "outputs": [
        {
          "output_type": "stream",
          "name": "stdout",
          "text": [
            "Matriz A:\n",
            " [[ 1  0]\n",
            " [ 6 -2]\n",
            " [-1  4]]\n",
            "\n",
            "Matriz B:\n",
            " [[ 2 -5  1 -2]\n",
            " [ 3  2  0 -1]]\n",
            "\n",
            " Multiplicación por escalar (2 * A):\n",
            " [[ 2  0]\n",
            " [12 -4]\n",
            " [-2  8]]\n",
            "\n",
            " Producto matricial (A * B):\n",
            " [[  2  -5   1  -2]\n",
            " [  6 -34   6 -10]\n",
            " [ 10  13  -1  -2]]\n",
            "El valor de C[1,0]es  6\n",
            "\n",
            " Transpuesta de A (Aᵀ):\n",
            " [[ 1  6 -1]\n",
            " [ 0 -2  4]]\n"
          ]
        }
      ],
      "source": [
        "import numpy as np\n",
        "\n",
        "# Definir dos matrices A y B de 3x3\n",
        "A = np.array([[1, 0],\n",
        "              [6, -2],\n",
        "              [-1, 4]])\n",
        "\n",
        "B = np.array([[2, -5, 1, -2],\n",
        "              [3, 2, 0, -1],\n",
        "              ])\n",
        "\n",
        "print(\"Matriz A:\\n\", A)\n",
        "print(\"\\nMatriz B:\\n\", B)\n",
        "\n",
        "# ------------------------------\n",
        "# Suma de matrices\n",
        "# ------------------------------\n",
        "\n",
        "#suma = A + B\n",
        "#print(\"\\n Suma (A + B):\\n\", suma)\n",
        "\n",
        "# ------------------------------\n",
        "#  Resta de matrices\n",
        "# ------------------------------\n",
        "#resta = A - B\n",
        "#print(\"\\n Resta (A - B):\\n\", resta)\n",
        "\n",
        "# ------------------------------\n",
        "# Multiplicación por un escalar\n",
        "# ------------------------------\n",
        "escalar = 2\n",
        "producto_escalar = escalar * A\n",
        "print(f\"\\n Multiplicación por escalar ({escalar} * A):\\n\", producto_escalar)\n",
        "\n",
        "# ------------------------------\n",
        "#  Multiplicación matricial\n",
        "# ------------------------------\n",
        "producto = np.dot(A, B)   # o A @ B\n",
        "print(\"\\n Producto matricial (A * B):\\n\", producto)\n",
        "\n",
        "valor= A[1,0]*B[0,0]+A[1,1]*B[1,0]\n",
        "print(\"El valor de C[1,0] es \", valor)\n",
        "# ------------------------------\n",
        "# Matriz transpuesta\n",
        "# ------------------------------\n",
        "transpuesta = A.T\n",
        "print(\"\\n Transpuesta de A (Aᵀ):\\n\", transpuesta)\n"
      ]
    },
    {
      "cell_type": "code",
      "metadata": {
        "id": "T3mCqT2d0W-i",
        "outputId": "43118df9-7edc-4550-fff9-cd7f276454f2",
        "colab": {
          "base_uri": "https://localhost:8080/"
        }
      },
      "source": [
        "from datetime import datetime\n",
        "import pytz\n",
        "\n",
        "# Obtener la zona horaria de Ecuador (Galapagos Time)\n",
        "ecuador_timezone = pytz.timezone('Etc/GMT+5')\n",
        "\n",
        "# Obtener la fecha y hora actual en la zona horaria de Ecuador\n",
        "fecha_actual_ecuador = datetime.now(ecuador_timezone)\n",
        "\n",
        "# Definir tu nombre y carrera\n",
        "nombre = \"Dario Xavier Chillogallo Chamba\"  # Reemplaza con tu nombre\n",
        "carrera = \"Ingenieria en Computacion\" # Reemplaza con tu carrera\n",
        "\n",
        "# Imprimir la fecha actual en la zona horaria de Ecuador, nombre y carrera\n",
        "print(f\"Fecha actual (Ecuador): {fecha_actual_ecuador.strftime('%Y-%m-%d %H:%M:%S %Z%z')}\")\n",
        "print(f\"Nombre: {nombre}\")\n",
        "print(f\"Carrera: {carrera}\")"
      ],
      "execution_count": 6,
      "outputs": [
        {
          "output_type": "stream",
          "name": "stdout",
          "text": [
            "Fecha actual (Ecuador): 2025-10-20 12:52:59 -05-0500\n",
            "Nombre: Dario Xavier Chillogallo Chamba\n",
            "Carrera: Ingenieria en Computacion\n"
          ]
        }
      ]
    }
  ]
}