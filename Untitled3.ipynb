{
  "nbformat": 4,
  "nbformat_minor": 0,
  "metadata": {
    "colab": {
      "provenance": [],
      "authorship_tag": "ABX9TyNoenQCmzYGTJfnyi7nvAx3",
      "include_colab_link": true
    },
    "kernelspec": {
      "name": "python3",
      "display_name": "Python 3"
    },
    "language_info": {
      "name": "python"
    }
  },
  "cells": [
    {
      "cell_type": "markdown",
      "metadata": {
        "id": "view-in-github",
        "colab_type": "text"
      },
      "source": [
        "<a href=\"https://colab.research.google.com/github/Dario-077/Ejercicios-Repositorio-Final/blob/main/Untitled3.ipynb\" target=\"_parent\"><img src=\"https://colab.research.google.com/assets/colab-badge.svg\" alt=\"Open In Colab\"/></a>"
      ]
    },
    {
      "cell_type": "code",
      "execution_count": 2,
      "metadata": {
        "colab": {
          "base_uri": "https://localhost:8080/"
        },
        "id": "iO1TcMEep81e",
        "outputId": "4bff25a5-b95d-4aa3-9559-31918f2e990e"
      },
      "outputs": [
        {
          "output_type": "stream",
          "name": "stdout",
          "text": [
            "Matriz A:\n",
            " [[ 1  0]\n",
            " [ 6 -2]\n",
            " [-1  4]]\n",
            "\n",
            "Matriz B:\n",
            " [[ 2 -5  1 -2]\n",
            " [ 3  2  0 -1]]\n",
            "\n",
            " Multiplicación por escalar (2 * A):\n",
            " [[ 2  0]\n",
            " [12 -4]\n",
            " [-2  8]]\n",
            "\n",
            " Producto matricial (A * B):\n",
            " [[  2  -5   1  -2]\n",
            " [  6 -34   6 -10]\n",
            " [ 10  13  -1  -2]]\n",
            "\n",
            " Transpuesta de A (Aᵀ):\n",
            " [[ 1  6 -1]\n",
            " [ 0 -2  4]]\n"
          ]
        }
      ],
      "source": [
        "import numpy as np\n",
        "\n",
        "# Definir dos matrices A y B de 3x3\n",
        "A = np.array([[1, 0],\n",
        "              [6, -2],\n",
        "              [-1, 4]])\n",
        "\n",
        "B = np.array([[2, -5, 1, -2],\n",
        "              [3, 2, 0, -1],\n",
        "              ])\n",
        "\n",
        "print(\"Matriz A:\\n\", A)\n",
        "print(\"\\nMatriz B:\\n\", B)\n",
        "\n",
        "# ------------------------------\n",
        "# Suma de matrices\n",
        "# ------------------------------\n",
        "\n",
        "#suma = A + B\n",
        "#print(\"\\n Suma (A + B):\\n\", suma)\n",
        "\n",
        "# ------------------------------\n",
        "#  Resta de matrices\n",
        "# ------------------------------\n",
        "#resta = A - B\n",
        "#print(\"\\n Resta (A - B):\\n\", resta)\n",
        "\n",
        "# ------------------------------\n",
        "# Multiplicación por un escalar\n",
        "# ------------------------------\n",
        "escalar = 2\n",
        "producto_escalar = escalar * A\n",
        "print(f\"\\n Multiplicación por escalar ({escalar} * A):\\n\", producto_escalar)\n",
        "\n",
        "# ------------------------------\n",
        "#  Multiplicación matricial\n",
        "# ------------------------------\n",
        "producto = np.dot(A, B)   # o A @ B\n",
        "print(\"\\n Producto matricial (A * B):\\n\", producto)\n",
        "\n",
        "# ------------------------------\n",
        "# Matriz transpuesta\n",
        "# ------------------------------\n",
        "transpuesta = A.T\n",
        "print(\"\\n Transpuesta de A (Aᵀ):\\n\", transpuesta)\n"
      ]
    }
  ]
}