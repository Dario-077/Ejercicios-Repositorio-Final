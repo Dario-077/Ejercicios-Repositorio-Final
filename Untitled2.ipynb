{
  "nbformat": 4,
  "nbformat_minor": 0,
  "metadata": {
    "colab": {
      "provenance": [],
      "authorship_tag": "ABX9TyP2AYEZTI9hXBO3WG3tpWE7",
      "include_colab_link": true
    },
    "kernelspec": {
      "name": "python3",
      "display_name": "Python 3"
    },
    "language_info": {
      "name": "python"
    }
  },
  "cells": [
    {
      "cell_type": "markdown",
      "metadata": {
        "id": "view-in-github",
        "colab_type": "text"
      },
      "source": [
        "<a href=\"https://colab.research.google.com/github/Dario-077/Ejercicios-Repositorio-Final/blob/main/Untitled2.ipynb\" target=\"_parent\"><img src=\"https://colab.research.google.com/assets/colab-badge.svg\" alt=\"Open In Colab\"/></a>"
      ]
    },
    {
      "cell_type": "code",
      "execution_count": null,
      "metadata": {
        "colab": {
          "base_uri": "https://localhost:8080/"
        },
        "id": "H4_NlSQyTCLv",
        "outputId": "5ce0cea9-c592-4e7a-967d-51663615e304"
      },
      "outputs": [
        {
          "output_type": "execute_result",
          "data": {
            "text/plain": [
              "{x: 300, y: 400, z: 500}"
            ]
          },
          "metadata": {},
          "execution_count": 1
        }
      ],
      "source": [
        "from sympy import symbols, Eq, solve\n",
        "x, y, z = symbols('x y z')\n",
        "sol = solve([\n",
        "    Eq(x + y + z, 1200),\n",
        "    Eq(2*x + y + 3*z, 2500),\n",
        "    Eq(x - y + z, 400)\n",
        "], (x, y, z))\n",
        "sol\n"
      ]
    },
    {
      "cell_type": "code",
      "source": [
        "from datetime import datetime\n",
        "from sympy import symbols, Eq, solve\n",
        "import pytz\n",
        "\n",
        "# Definir la zona horaria de Ecuador\n",
        "ecuador_tz = pytz.timezone('America/Guayaquil')\n",
        "\n",
        "# Obtener la fecha y hora actual en la zona horaria de Ecuador\n",
        "now = datetime.now(ecuador_tz)\n",
        "\n",
        "#Imprimir la hora en formato legible\n",
        "print (\"Hora actual en Ecuador: \", now.strftime(\"%H:%M:%S\"))\n",
        "print (\"Chillogallo Chamba Dario Xavier\")\n",
        "print (\"Primer ciclo _ Computación\")\n",
        "\n",
        "x, y, z = symbols('x y z')\n",
        "sol = solve([\n",
        "    Eq(x + 2*y + 3*z, 14),\n",
        "    Eq(2*x + 3*y + z, 13),\n",
        "    Eq(3*x + y + 2*z, 13)\n",
        "], (x, y, z))\n",
        "sol"
      ],
      "metadata": {
        "colab": {
          "base_uri": "https://localhost:8080/"
        },
        "id": "sCFJ6ehHTTSr",
        "outputId": "efd2db34-443e-43dd-f242-6cf72f64aeab"
      },
      "execution_count": null,
      "outputs": [
        {
          "output_type": "stream",
          "name": "stdout",
          "text": [
            "Hora actual en Ecuador:  08:43:54\n",
            "Chillogallo Chamba Dario Xavier\n",
            "Primer ciclo _ Computación\n"
          ]
        },
        {
          "output_type": "execute_result",
          "data": {
            "text/plain": [
              "{x: 17/9, y: 20/9, z: 23/9}"
            ]
          },
          "metadata": {},
          "execution_count": 2
        }
      ]
    },
    {
      "cell_type": "code",
      "source": [
        "from sympy import symbols, Eq, solve\n",
        "x, y, z = symbols('x y z')\n",
        "sol = solve([\n",
        "    Eq(2*x + 3*y + 4*z, 20),\n",
        "    Eq(3*x - 5*y - z, -10),\n",
        "    Eq(-x + 2*y - 3*z, -6)\n",
        "], (x, y, z))\n",
        "sol"
      ],
      "metadata": {
        "id": "C6a-3-YVL_fk",
        "outputId": "69feced1-f766-4953-f65f-b5171cebce21",
        "colab": {
          "base_uri": "https://localhost:8080/"
        }
      },
      "execution_count": 1,
      "outputs": [
        {
          "output_type": "execute_result",
          "data": {
            "text/plain": [
              "{x: 1, y: 2, z: 3}"
            ]
          },
          "metadata": {},
          "execution_count": 1
        }
      ]
    },
    {
      "cell_type": "code",
      "source": [
        "from sympy import symbols, Eq, solve\n",
        "x, y, z = symbols('x y z')\n",
        "sol = solve([\n",
        "    Eq(-x + 3*y + z, 15),\n",
        "    Eq(5*x - y + 2*z, 2),\n",
        "    Eq(3*x + 2*y - z, -2)\n",
        "], (x, y, z))\n",
        "sol"
      ],
      "metadata": {
        "id": "NaBCCBgdMoRr",
        "outputId": "1353b1a9-3149-4b9a-b3ac-19eb3d59ba56",
        "colab": {
          "base_uri": "https://localhost:8080/"
        }
      },
      "execution_count": 2,
      "outputs": [
        {
          "output_type": "execute_result",
          "data": {
            "text/plain": [
              "{x: -1, y: 3, z: 5}"
            ]
          },
          "metadata": {},
          "execution_count": 2
        }
      ]
    },
    {
      "cell_type": "code",
      "source": [
        "from sympy import symbols, Eq, solve\n",
        "x, y, z = symbols('x y z')\n",
        "sol = solve([\n",
        "    Eq(2*x + 3*y + 4*z, 20),\n",
        "    Eq(3*x - 5*y - z, -10),\n",
        "    Eq(-x + 2*y - 3*z, -6)\n",
        "], (x, y, z))\n",
        "sol"
      ],
      "metadata": {
        "id": "NjY1K6vkM84N",
        "outputId": "141d1804-c93c-4799-db66-70de30df0a35",
        "colab": {
          "base_uri": "https://localhost:8080/"
        }
      },
      "execution_count": 3,
      "outputs": [
        {
          "output_type": "execute_result",
          "data": {
            "text/plain": [
              "{x: 1, y: 2, z: 3}"
            ]
          },
          "metadata": {},
          "execution_count": 3
        }
      ]
    },
    {
      "cell_type": "code",
      "source": [
        "from sympy import symbols, Eq, solve\n",
        "x, y, z = symbols('x y z')\n",
        "sol = solve([\n",
        "    Eq(2*x + y + z, 1),\n",
        "    Eq(3*x + 2*y + 2*z, 3),\n",
        "    Eq(x - 2*y - z, 0)\n",
        "], (x, y, z))\n",
        "sol"
      ],
      "metadata": {
        "id": "4R4jil1qNZSQ",
        "outputId": "e0a6ed87-0586-4a40-86d3-4816bae203ce",
        "colab": {
          "base_uri": "https://localhost:8080/"
        }
      },
      "execution_count": 4,
      "outputs": [
        {
          "output_type": "execute_result",
          "data": {
            "text/plain": [
              "{x: -1, y: -4, z: 7}"
            ]
          },
          "metadata": {},
          "execution_count": 4
        }
      ]
    },
    {
      "cell_type": "code",
      "source": [
        "from sympy import symbols, Eq, solve\n",
        "x, y, z = symbols('x y z')\n",
        "sol = solve([\n",
        "    Eq(x - y + z, 2),\n",
        "    Eq(x + y + z, 4),\n",
        "    Eq(2*x + 2*y - z, -4)\n",
        "], (x, y, z))\n",
        "sol"
      ],
      "metadata": {
        "id": "W7lnCcbjNz3s",
        "outputId": "719d0255-672e-4c6f-d65e-17ede2d32032",
        "colab": {
          "base_uri": "https://localhost:8080/"
        }
      },
      "execution_count": 6,
      "outputs": [
        {
          "output_type": "execute_result",
          "data": {
            "text/plain": [
              "{x: -1, y: 1, z: 4}"
            ]
          },
          "metadata": {},
          "execution_count": 6
        }
      ]
    },
    {
      "cell_type": "code",
      "source": [
        "from sympy import symbols, Eq, solve\n",
        "x, y, z = symbols('x y z')\n",
        "sol = solve([\n",
        "    Eq(x + 2*y - z, 7),\n",
        "    Eq(x - y + 2*z, -5),\n",
        "    Eq(-3*x + y + 4*z, -17)\n",
        "], (x, y, z))\n",
        "sol"
      ],
      "metadata": {
        "id": "cxxC6U0hOQPP",
        "outputId": "20465152-6221-4be4-fa08-500314396bf7",
        "colab": {
          "base_uri": "https://localhost:8080/"
        }
      },
      "execution_count": 7,
      "outputs": [
        {
          "output_type": "execute_result",
          "data": {
            "text/plain": [
              "{x: 2, y: 1, z: -3}"
            ]
          },
          "metadata": {},
          "execution_count": 7
        }
      ]
    },
    {
      "cell_type": "code",
      "source": [
        "from sympy import symbols, Eq, solve\n",
        "x, y, z = symbols('x y z')\n",
        "sol = solve([\n",
        "    Eq(x + y + z, 2),\n",
        "    Eq(3*x - 2*y - z, 4),\n",
        "    Eq(-2*x + y - 2*z, 2)\n",
        "], (x, y, z))\n",
        "sol"
      ],
      "metadata": {
        "id": "rvv_IMaeOf8F",
        "outputId": "ab8d9f1a-14e8-47c3-eaa9-2ae0854f9f64",
        "colab": {
          "base_uri": "https://localhost:8080/"
        }
      },
      "execution_count": 8,
      "outputs": [
        {
          "output_type": "execute_result",
          "data": {
            "text/plain": [
              "{x: 2, y: 2, z: -2}"
            ]
          },
          "metadata": {},
          "execution_count": 8
        }
      ]
    }
  ]
}