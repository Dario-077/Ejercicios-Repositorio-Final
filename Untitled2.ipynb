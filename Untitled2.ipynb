{
  "nbformat": 4,
  "nbformat_minor": 0,
  "metadata": {
    "colab": {
      "provenance": [],
      "authorship_tag": "ABX9TyMrsobx6Or87gfFuR+q/UmO",
      "include_colab_link": true
    },
    "kernelspec": {
      "name": "python3",
      "display_name": "Python 3"
    },
    "language_info": {
      "name": "python"
    }
  },
  "cells": [
    {
      "cell_type": "markdown",
      "metadata": {
        "id": "view-in-github",
        "colab_type": "text"
      },
      "source": [
        "<a href=\"https://colab.research.google.com/github/Dario-077/Ejercicios-Repositorio-Final/blob/main/Untitled2.ipynb\" target=\"_parent\"><img src=\"https://colab.research.google.com/assets/colab-badge.svg\" alt=\"Open In Colab\"/></a>"
      ]
    },
    {
      "cell_type": "code",
      "execution_count": 1,
      "metadata": {
        "colab": {
          "base_uri": "https://localhost:8080/"
        },
        "id": "H4_NlSQyTCLv",
        "outputId": "5ce0cea9-c592-4e7a-967d-51663615e304"
      },
      "outputs": [
        {
          "output_type": "execute_result",
          "data": {
            "text/plain": [
              "{x: 300, y: 400, z: 500}"
            ]
          },
          "metadata": {},
          "execution_count": 1
        }
      ],
      "source": [
        "from sympy import symbols, Eq, solve\n",
        "x, y, z = symbols('x y z')\n",
        "sol = solve([\n",
        "    Eq(x + y + z, 1200),\n",
        "    Eq(2*x + y + 3*z, 2500),\n",
        "    Eq(x - y + z, 400)\n",
        "], (x, y, z))\n",
        "sol\n"
      ]
    },
    {
      "cell_type": "code",
      "source": [
        "from datetime import datetime\n",
        "from sympy import symbols, Eq, solve\n",
        "import pytz\n",
        "\n",
        "# Definir la zona horaria de Ecuador\n",
        "ecuador_tz = pytz.timezone('America/Guayaquil')\n",
        "\n",
        "# Obtener la fecha y hora actual en la zona horaria de Ecuador\n",
        "now = datetime.now(ecuador_tz)\n",
        "\n",
        "#Imprimir la hora en formato legible\n",
        "print (\"Hora actual en Ecuador: \", now.strftime(\"%H:%M:%S\"))\n",
        "print (\"Chillogallo Chamba Dario Xavier\")\n",
        "print (\"Primer ciclo _ Computación\")\n",
        "\n",
        "x, y, z = symbols('x y z')\n",
        "sol = solve([\n",
        "    Eq(x + 2*y + 3*z, 14),\n",
        "    Eq(2*x + 3*y + z, 13),\n",
        "    Eq(3*x + y + 2*z, 13)\n",
        "], (x, y, z))\n",
        "sol"
      ],
      "metadata": {
        "colab": {
          "base_uri": "https://localhost:8080/"
        },
        "id": "sCFJ6ehHTTSr",
        "outputId": "efd2db34-443e-43dd-f242-6cf72f64aeab"
      },
      "execution_count": 2,
      "outputs": [
        {
          "output_type": "stream",
          "name": "stdout",
          "text": [
            "Hora actual en Ecuador:  08:43:54\n",
            "Chillogallo Chamba Dario Xavier\n",
            "Primer ciclo _ Computación\n"
          ]
        },
        {
          "output_type": "execute_result",
          "data": {
            "text/plain": [
              "{x: 17/9, y: 20/9, z: 23/9}"
            ]
          },
          "metadata": {},
          "execution_count": 2
        }
      ]
    }
  ]
}